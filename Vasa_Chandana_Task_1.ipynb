{
  "nbformat": 4,
  "nbformat_minor": 0,
  "metadata": {
    "colab": {
      "name": "Vasa-Chandana-Task-1.ipynb",
      "provenance": [],
      "authorship_tag": "ABX9TyOFj68vOzxkR+IB25+z9qli",
      "include_colab_link": true
    },
    "kernelspec": {
      "name": "python3",
      "display_name": "Python 3"
    },
    "language_info": {
      "name": "python"
    }
  },
  "cells": [
    {
      "cell_type": "markdown",
      "metadata": {
        "id": "view-in-github",
        "colab_type": "text"
      },
      "source": [
        "<a href=\"https://colab.research.google.com/github/chandana444/GUVI__TASKS/blob/main/Vasa_Chandana_Task_1.ipynb\" target=\"_parent\"><img src=\"https://colab.research.google.com/assets/colab-badge.svg\" alt=\"Open In Colab\"/></a>"
      ]
    },
    {
      "cell_type": "code",
      "metadata": {
        "colab": {
          "base_uri": "https://localhost:8080/"
        },
        "id": "TvIj8S57Cuza",
        "outputId": "540927aa-6bb5-4ba7-bedc-36554ad98640"
      },
      "source": [
        "import numpy\n",
        "n=input() #no of input arrays\n",
        "a=numpy.array([input().split() for i in range(int(n))],int) #input arrays\n",
        "b=numpy.transpose(a) #transpose of the input arrays\n",
        "c=b.flatten() #flatten array of the transpose array\n",
        "print(c)\n",
        "\n"
      ],
      "execution_count": 1,
      "outputs": [
        {
          "output_type": "stream",
          "text": [
            "2\n",
            "1 4 5\n",
            "3 8 9\n",
            "[1 3 4 8 5 9]\n"
          ],
          "name": "stdout"
        }
      ]
    }
  ]
}